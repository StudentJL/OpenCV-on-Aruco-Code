{
  "nbformat": 4,
  "nbformat_minor": 0,
  "metadata": {
    "colab": {
      "provenance": []
    },
    "kernelspec": {
      "name": "python3",
      "display_name": "Python 3"
    },
    "language_info": {
      "name": "python"
    }
  },
  "cells": [
    {
      "cell_type": "code",
      "execution_count": 269,
      "metadata": {
        "id": "2LxuM6AhpeME"
      },
      "outputs": [],
      "source": [
        "# importing OpenCV\n",
        "import cv2 as cv\n",
        "# importing Aruco Module\n",
        "import cv2.aruco as aruco\n",
        "\n",
        "import numpy as np\n",
        "\n",
        "import pandas as pd"
      ]
    },
    {
      "cell_type": "code",
      "source": [
        "# reading the image uploaded into Google Colab folder\n",
        "frame = cv.imread(\"/content/aruco_codes.png\")"
      ],
      "metadata": {
        "id": "LbOtfOIqqKDc"
      },
      "execution_count": 270,
      "outputs": []
    },
    {
      "cell_type": "code",
      "source": [
        "# creating a dictionary of aruco markers, using the predefined aruco.DICT_6X6_250 dictionary\n",
        "aruco_dict = aruco.getPredefinedDictionary(aruco.DICT_6X6_250)"
      ],
      "metadata": {
        "id": "_tHmNHghqglJ"
      },
      "execution_count": 271,
      "outputs": []
    },
    {
      "cell_type": "code",
      "source": [
        "# creating variables to contain corner points of detected markers,\n",
        "# IDs of detected markers,\n",
        "# and undetected markers\n",
        "corners, ids, rejected = aruco.detectMarkers(frame, aruco_dict)"
      ],
      "metadata": {
        "id": "VOktcaj6rF56"
      },
      "execution_count": 272,
      "outputs": []
    },
    {
      "cell_type": "code",
      "source": [
        "# creating a copy of the image\n",
        "frame_copy = frame.copy()\n",
        "# drawing the detected markers onto the image copy\n",
        "frame_with_markers = aruco.drawDetectedMarkers(frame_copy, corners, ids)"
      ],
      "metadata": {
        "id": "YZT53fsirLC2"
      },
      "execution_count": 273,
      "outputs": []
    },
    {
      "cell_type": "code",
      "source": [
        "# importing cv2_imshow to see the image with markers in google colab\n",
        "from google.colab.patches import cv2_imshow\n",
        "cv2_imshow(frame_with_markers)"
      ],
      "metadata": {
        "colab": {
          "base_uri": "https://localhost:8080/",
          "height": 413
        },
        "id": "5FGnzA2az5tf",
        "outputId": "10ae20b8-28d0-4537-eb82-c41c6b4d6225"
      },
      "execution_count": 274,
      "outputs": [
        {
          "output_type": "display_data",
          "data": {
            "text/plain": [
              "<PIL.Image.Image image mode=RGB size=512x396>"
            ],
            "image/png": "[encoded data removed]"
          },
          "metadata": {}
        }
      ]
    },
    {
      "cell_type": "code",
      "source": [
        "# In the arrays produced by detectMarkers,\n",
        "# it appears that the aruco codes in the image are listed in order of bottom to top.\n",
        "# So, to get the details of the top aruco code, I'll refer to the last entry in the arrays\n",
        "print(\"The id of the top left Aruco code is \" + str(ids[-1][0]))"
      ],
      "metadata": {
        "colab": {
          "base_uri": "https://localhost:8080/"
        },
        "id": "bI1LUKz9y-Ir",
        "outputId": "6677b061-6945-43bb-f7ae-f02ef4af0e8a"
      },
      "execution_count": 275,
      "outputs": [
        {
          "output_type": "stream",
          "name": "stdout",
          "text": [
            "The id of the top left Aruco code is 203\n"
          ]
        }
      ]
    },
    {
      "cell_type": "code",
      "source": [
        "# Looking at the corners of the top left Aruco marker\n",
        "print(corners[-1][0])\n",
        "print(type(corners[-1][0]))"
      ],
      "metadata": {
        "colab": {
          "base_uri": "https://localhost:8080/"
        },
        "id": "RPHRjKXBASoi",
        "outputId": "ef100cd1-88e6-469c-9b04-a70449b51435"
      },
      "execution_count": 276,
      "outputs": [
        {
          "output_type": "stream",
          "name": "stdout",
          "text": [
            "[[ 91.  48.]\n",
            " [137.  48.]\n",
            " [136.  94.]\n",
            " [ 91.  94.]]\n",
            "<class 'numpy.ndarray'>\n"
          ]
        }
      ]
    },
    {
      "cell_type": "code",
      "source": [
        "# Using the corners of the Aruco marker to find its area\n",
        "area = cv.contourArea(corners[-1][0])\n",
        "print(\"The area of the top left Aruco code is \" + str(area))"
      ],
      "metadata": {
        "colab": {
          "base_uri": "https://localhost:8080/"
        },
        "id": "gvt8R9umDMRL",
        "outputId": "0a979f55-b244-4313-d5dc-d6ceeed0ca38"
      },
      "execution_count": 277,
      "outputs": [
        {
          "output_type": "stream",
          "name": "stdout",
          "text": [
            "The area of the top left Aruco code is 2093.0\n"
          ]
        }
      ]
    },
    {
      "cell_type": "code",
      "source": [
        "areas_collection = []\n",
        "for x in corners:\n",
        "  areas_collection.append(cv.contourArea(x))\n",
        "print(areas_collection)"
      ],
      "metadata": {
        "colab": {
          "base_uri": "https://localhost:8080/"
        },
        "id": "I9HXbCAUtHAu",
        "outputId": "fb82d6fb-8f6b-40d3-ce43-c82b6ab9ae66"
      },
      "execution_count": 278,
      "outputs": [
        {
          "output_type": "stream",
          "name": "stdout",
          "text": [
            "[2116.0, 2116.0, 2093.0, 2070.0, 2047.5, 2093.0]\n"
          ]
        }
      ]
    },
    {
      "cell_type": "code",
      "source": [
        "# Looking at the odd area and the corners, it seems that the Aruco marker is not fully rectangular\n",
        "\n",
        "# Calculating the area of a rectangle enclosing an Aruco marker using OpenCV\n",
        "\n",
        "# Uploading the array of the Aruco marker's corners to find the minimum area rectangle that encloses the Aruco marker\n",
        "rect = cv.minAreaRect(corners[-1])\n",
        "print(rect)\n",
        "# Getting an array of the corners of the enclosing rectangle\n",
        "box = cv.boxPoints(rect)\n",
        "print(box)\n",
        "# Finding the area of the rectangle\n",
        "area2 = cv.contourArea(box)\n",
        "print(\"The area of the smallest possible rectangle enclosing the top left Aruco code is \" + str(area2))"
      ],
      "metadata": {
        "colab": {
          "base_uri": "https://localhost:8080/"
        },
        "id": "P4h0OtYYBTAl",
        "outputId": "b268c54c-dd31-4877-fe45-c5cbcce8c5dc"
      },
      "execution_count": 279,
      "outputs": [
        {
          "output_type": "stream",
          "name": "stdout",
          "text": [
            "((114.0, 71.0), (46.0, 46.0), 90.0)\n",
            "[[ 91.  48.]\n",
            " [137.  48.]\n",
            " [137.  94.]\n",
            " [ 91.  94.]]\n",
            "The area of the smallest possible rectangle enclosing the top left Aruco code is 2116.0\n"
          ]
        }
      ]
    },
    {
      "cell_type": "markdown",
      "source": [
        "In the next part, turning the ids and corners arrays into a downloadable dataframe"
      ],
      "metadata": {
        "id": "RhCIc84tbQUq"
      }
    },
    {
      "cell_type": "code",
      "source": [
        "# I could not make a dataframe using the corners variable containing arrays,\n",
        "# so I will turn all of its arrays into lists\n",
        "corners_list = []\n",
        "for x in corners:\n",
        "  corners_list.append(x[0].tolist())\n",
        "\n",
        "corners_list"
      ],
      "metadata": {
        "colab": {
          "base_uri": "https://localhost:8080/"
        },
        "id": "zAMnrjf7RrEz",
        "outputId": "0f86e12b-c866-4ca5-bdbb-cd55568fba6d"
      },
      "execution_count": 282,
      "outputs": [
        {
          "output_type": "execute_result",
          "data": {
            "text/plain": [
              "[[[294.0, 288.0], [340.0, 288.0], [340.0, 334.0], [294.0, 334.0]],\n",
              " [[374.0, 214.0], [420.0, 214.0], [420.0, 260.0], [374.0, 260.0]],\n",
              " [[160.0, 243.0], [114.0, 243.0], [115.0, 197.0], [160.0, 197.0]],\n",
              " [[227.0, 104.0], [273.0, 104.0], [273.0, 149.0], [227.0, 149.0]],\n",
              " [[393.0, 56.0], [393.0, 102.0], [348.0, 102.0], [348.0, 57.0]],\n",
              " [[91.0, 48.0], [137.0, 48.0], [136.0, 94.0], [91.0, 94.0]]]"
            ]
          },
          "metadata": {},
          "execution_count": 282
        }
      ]
    },
    {
      "cell_type": "code",
      "source": [
        "# When the corners variable turns into a list of lists,\n",
        "# the ids array does not work in the making of a dataframe.\n",
        "# So I will also turn the ids array into a list\n",
        "ids_list = []\n",
        "for x in ids:\n",
        " ids_list.append(x[0])\n",
        "\n",
        "ids_list"
      ],
      "metadata": {
        "colab": {
          "base_uri": "https://localhost:8080/"
        },
        "id": "cxghKU75ZlMx",
        "outputId": "6519691a-0c70-40cf-a31e-6bc992d094cb"
      },
      "execution_count": 283,
      "outputs": [
        {
          "output_type": "execute_result",
          "data": {
            "text/plain": [
              "[40, 98, 62, 23, 124, 203]"
            ]
          },
          "metadata": {},
          "execution_count": 283
        }
      ]
    },
    {
      "cell_type": "code",
      "source": [
        "# Turning the data into a dictionary\n",
        "data = {'ID':ids_list, 'Corners':corners_list, 'Area':areas_collection}\n",
        "data"
      ],
      "metadata": {
        "colab": {
          "base_uri": "https://localhost:8080/"
        },
        "id": "icRUJaLLRxlx",
        "outputId": "ac55f2d7-cdb6-440e-f520-3c4bb72d47a0"
      },
      "execution_count": 284,
      "outputs": [
        {
          "output_type": "execute_result",
          "data": {
            "text/plain": [
              "{'ID': [40, 98, 62, 23, 124, 203],\n",
              " 'Corners': [[[294.0, 288.0], [340.0, 288.0], [340.0, 334.0], [294.0, 334.0]],\n",
              "  [[374.0, 214.0], [420.0, 214.0], [420.0, 260.0], [374.0, 260.0]],\n",
              "  [[160.0, 243.0], [114.0, 243.0], [115.0, 197.0], [160.0, 197.0]],\n",
              "  [[227.0, 104.0], [273.0, 104.0], [273.0, 149.0], [227.0, 149.0]],\n",
              "  [[393.0, 56.0], [393.0, 102.0], [348.0, 102.0], [348.0, 57.0]],\n",
              "  [[91.0, 48.0], [137.0, 48.0], [136.0, 94.0], [91.0, 94.0]]],\n",
              " 'Area': [2116.0, 2116.0, 2093.0, 2070.0, 2047.5, 2093.0]}"
            ]
          },
          "metadata": {},
          "execution_count": 284
        }
      ]
    },
    {
      "cell_type": "code",
      "source": [
        "aruco_dataframe = pd.DataFrame(data)\n",
        "aruco_dataframe"
      ],
      "metadata": {
        "colab": {
          "base_uri": "https://localhost:8080/",
          "height": 237
        },
        "id": "fi3yHjGfTlvQ",
        "outputId": "43eed7e9-357a-4976-eddd-9868caeca4af"
      },
      "execution_count": 285,
      "outputs": [
        {
          "output_type": "execute_result",
          "data": {
            "text/plain": [
              "    ID                                            Corners    Area\n",
              "0   40  [[294.0, 288.0], [340.0, 288.0], [340.0, 334.0...  2116.0\n",
              "1   98  [[374.0, 214.0], [420.0, 214.0], [420.0, 260.0...  2116.0\n",
              "2   62  [[160.0, 243.0], [114.0, 243.0], [115.0, 197.0...  2093.0\n",
              "3   23  [[227.0, 104.0], [273.0, 104.0], [273.0, 149.0...  2070.0\n",
              "4  124  [[393.0, 56.0], [393.0, 102.0], [348.0, 102.0]...  2047.5\n",
              "5  203  [[91.0, 48.0], [137.0, 48.0], [136.0, 94.0], [...  2093.0"
            ],
            "text/html": [
              "\n",
              "  <div id=\"df-d4dd6c27-6aa7-4f68-a466-4b6db8b82143\" class=\"colab-df-container\">\n",
              "    <div>\n",
              "<style scoped>\n",
              "    .dataframe tbody tr th:only-of-type {\n",
              "        vertical-align: middle;\n",
              "    }\n",
              "\n",
              "    .dataframe tbody tr th {\n",
              "        vertical-align: top;\n",
              "    }\n",
              "\n",
              "    .dataframe thead th {\n",
              "        text-align: right;\n",
              "    }\n",
              "</style>\n",
              "<table border=\"1\" class=\"dataframe\">\n",
              "  <thead>\n",
              "    <tr style=\"text-align: right;\">\n",
              "      <th></th>\n",
              "      <th>ID</th>\n",
              "      <th>Corners</th>\n",
              "      <th>Area</th>\n",
              "    </tr>\n",
              "  </thead>\n",
              "  <tbody>\n",
              "    <tr>\n",
              "      <th>0</th>\n",
              "      <td>40</td>\n",
              "      <td>[[294.0, 288.0], [340.0, 288.0], [340.0, 334.0...</td>\n",
              "      <td>2116.0</td>\n",
              "    </tr>\n",
              "    <tr>\n",
              "      <th>1</th>\n",
              "      <td>98</td>\n",
              "      <td>[[374.0, 214.0], [420.0, 214.0], [420.0, 260.0...</td>\n",
              "      <td>2116.0</td>\n",
              "    </tr>\n",
              "    <tr>\n",
              "      <th>2</th>\n",
              "      <td>62</td>\n",
              "      <td>[[160.0, 243.0], [114.0, 243.0], [115.0, 197.0...</td>\n",
              "      <td>2093.0</td>\n",
              "    </tr>\n",
              "    <tr>\n",
              "      <th>3</th>\n",
              "      <td>23</td>\n",
              "      <td>[[227.0, 104.0], [273.0, 104.0], [273.0, 149.0...</td>\n",
              "      <td>2070.0</td>\n",
              "    </tr>\n",
              "    <tr>\n",
              "      <th>4</th>\n",
              "      <td>124</td>\n",
              "      <td>[[393.0, 56.0], [393.0, 102.0], [348.0, 102.0]...</td>\n",
              "      <td>2047.5</td>\n",
              "    </tr>\n",
              "    <tr>\n",
              "      <th>5</th>\n",
              "      <td>203</td>\n",
              "      <td>[[91.0, 48.0], [137.0, 48.0], [136.0, 94.0], [...</td>\n",
              "      <td>2093.0</td>\n",
              "    </tr>\n",
              "  </tbody>\n",
              "</table>\n",
              "</div>\n",
              "    <div class=\"colab-df-buttons\">\n",
              "\n",
              "  <div class=\"colab-df-container\">\n",
              "    <button class=\"colab-df-convert\" onclick=\"convertToInteractive('df-d4dd6c27-6aa7-4f68-a466-4b6db8b82143')\"\n",
              "            title=\"Convert this dataframe to an interactive table.\"\n",
              "            style=\"display:none;\">\n",
              "\n",
              "  <svg xmlns=\"http://www.w3.org/2000/svg\" height=\"24px\" viewBox=\"0 -960 960 960\">\n",
              "    <path d=\"M120-120v-720h720v720H120Zm60-500h600v-160H180v160Zm220 220h160v-160H400v160Zm0 220h160v-160H400v160ZM180-400h160v-160H180v160Zm440 0h160v-160H620v160ZM180-180h160v-160H180v160Zm440 0h160v-160H620v160Z\"/>\n",
              "  </svg>\n",
              "    </button>\n",
              "\n",
              "  <style>\n",
              "    .colab-df-container {\n",
              "      display:flex;\n",
              "      gap: 12px;\n",
              "    }\n",
              "\n",
              "    .colab-df-convert {\n",
              "      background-color: #E8F0FE;\n",
              "      border: none;\n",
              "      border-radius: 50%;\n",
              "      cursor: pointer;\n",
              "      display: none;\n",
              "      fill: #1967D2;\n",
              "      height: 32px;\n",
              "      padding: 0 0 0 0;\n",
              "      width: 32px;\n",
              "    }\n",
              "\n",
              "    .colab-df-convert:hover {\n",
              "      background-color: #E2EBFA;\n",
              "      box-shadow: 0px 1px 2px rgba(60, 64, 67, 0.3), 0px 1px 3px 1px rgba(60, 64, 67, 0.15);\n",
              "      fill: #174EA6;\n",
              "    }\n",
              "\n",
              "    .colab-df-buttons div {\n",
              "      margin-bottom: 4px;\n",
              "    }\n",
              "\n",
              "    [theme=dark] .colab-df-convert {\n",
              "      background-color: #3B4455;\n",
              "      fill: #D2E3FC;\n",
              "    }\n",
              "\n",
              "    [theme=dark] .colab-df-convert:hover {\n",
              "      background-color: #434B5C;\n",
              "      box-shadow: 0px 1px 3px 1px rgba(0, 0, 0, 0.15);\n",
              "      filter: drop-shadow(0px 1px 2px rgba(0, 0, 0, 0.3));\n",
              "      fill: #FFFFFF;\n",
              "    }\n",
              "  </style>\n",
              "\n",
              "    <script>\n",
              "      const buttonEl =\n",
              "        document.querySelector('#df-d4dd6c27-6aa7-4f68-a466-4b6db8b82143 button.colab-df-convert');\n",
              "      buttonEl.style.display =\n",
              "        google.colab.kernel.accessAllowed ? 'block' : 'none';\n",
              "\n",
              "      async function convertToInteractive(key) {\n",
              "        const element = document.querySelector('#df-d4dd6c27-6aa7-4f68-a466-4b6db8b82143');\n",
              "        const dataTable =\n",
              "          await google.colab.kernel.invokeFunction('convertToInteractive',\n",
              "                                                    [key], {});\n",
              "        if (!dataTable) return;\n",
              "\n",
              "        const docLinkHtml = 'Like what you see? Visit the ' +\n",
              "          '<a target=\"_blank\" href=https://colab.research.google.com/notebooks/data_table.ipynb>data table notebook</a>'\n",
              "          + ' to learn more about interactive tables.';\n",
              "        element.innerHTML = '';\n",
              "        dataTable['output_type'] = 'display_data';\n",
              "        await google.colab.output.renderOutput(dataTable, element);\n",
              "        const docLink = document.createElement('div');\n",
              "        docLink.innerHTML = docLinkHtml;\n",
              "        element.appendChild(docLink);\n",
              "      }\n",
              "    </script>\n",
              "  </div>\n",
              "\n",
              "\n",
              "<div id=\"df-8e6792ac-01aa-4f72-bd0e-c0654fb08b2b\">\n",
              "  <button class=\"colab-df-quickchart\" onclick=\"quickchart('df-8e6792ac-01aa-4f72-bd0e-c0654fb08b2b')\"\n",
              "            title=\"Suggest charts\"\n",
              "            style=\"display:none;\">\n",
              "\n",
              "<svg xmlns=\"http://www.w3.org/2000/svg\" height=\"24px\"viewBox=\"0 0 24 24\"\n",
              "     width=\"24px\">\n",
              "    <g>\n",
              "        <path d=\"M19 3H5c-1.1 0-2 .9-2 2v14c0 1.1.9 2 2 2h14c1.1 0 2-.9 2-2V5c0-1.1-.9-2-2-2zM9 17H7v-7h2v7zm4 0h-2V7h2v10zm4 0h-2v-4h2v4z\"/>\n",
              "    </g>\n",
              "</svg>\n",
              "  </button>\n",
              "\n",
              "<style>\n",
              "  .colab-df-quickchart {\n",
              "      --bg-color: #E8F0FE;\n",
              "      --fill-color: #1967D2;\n",
              "      --hover-bg-color: #E2EBFA;\n",
              "      --hover-fill-color: #174EA6;\n",
              "      --disabled-fill-color: #AAA;\n",
              "      --disabled-bg-color: #DDD;\n",
              "  }\n",
              "\n",
              "  [theme=dark] .colab-df-quickchart {\n",
              "      --bg-color: #3B4455;\n",
              "      --fill-color: #D2E3FC;\n",
              "      --hover-bg-color: #434B5C;\n",
              "      --hover-fill-color: #FFFFFF;\n",
              "      --disabled-bg-color: #3B4455;\n",
              "      --disabled-fill-color: #666;\n",
              "  }\n",
              "\n",
              "  .colab-df-quickchart {\n",
              "    background-color: var(--bg-color);\n",
              "    border: none;\n",
              "    border-radius: 50%;\n",
              "    cursor: pointer;\n",
              "    display: none;\n",
              "    fill: var(--fill-color);\n",
              "    height: 32px;\n",
              "    padding: 0;\n",
              "    width: 32px;\n",
              "  }\n",
              "\n",
              "  .colab-df-quickchart:hover {\n",
              "    background-color: var(--hover-bg-color);\n",
              "    box-shadow: 0 1px 2px rgba(60, 64, 67, 0.3), 0 1px 3px 1px rgba(60, 64, 67, 0.15);\n",
              "    fill: var(--button-hover-fill-color);\n",
              "  }\n",
              "\n",
              "  .colab-df-quickchart-complete:disabled,\n",
              "  .colab-df-quickchart-complete:disabled:hover {\n",
              "    background-color: var(--disabled-bg-color);\n",
              "    fill: var(--disabled-fill-color);\n",
              "    box-shadow: none;\n",
              "  }\n",
              "\n",
              "  .colab-df-spinner {\n",
              "    border: 2px solid var(--fill-color);\n",
              "    border-color: transparent;\n",
              "    border-bottom-color: var(--fill-color);\n",
              "    animation:\n",
              "      spin 1s steps(1) infinite;\n",
              "  }\n",
              "\n",
              "  @keyframes spin {\n",
              "    0% {\n",
              "      border-color: transparent;\n",
              "      border-bottom-color: var(--fill-color);\n",
              "      border-left-color: var(--fill-color);\n",
              "    }\n",
              "    20% {\n",
              "      border-color: transparent;\n",
              "      border-left-color: var(--fill-color);\n",
              "      border-top-color: var(--fill-color);\n",
              "    }\n",
              "    30% {\n",
              "      border-color: transparent;\n",
              "      border-left-color: var(--fill-color);\n",
              "      border-top-color: var(--fill-color);\n",
              "      border-right-color: var(--fill-color);\n",
              "    }\n",
              "    40% {\n",
              "      border-color: transparent;\n",
              "      border-right-color: var(--fill-color);\n",
              "      border-top-color: var(--fill-color);\n",
              "    }\n",
              "    60% {\n",
              "      border-color: transparent;\n",
              "      border-right-color: var(--fill-color);\n",
              "    }\n",
              "    80% {\n",
              "      border-color: transparent;\n",
              "      border-right-color: var(--fill-color);\n",
              "      border-bottom-color: var(--fill-color);\n",
              "    }\n",
              "    90% {\n",
              "      border-color: transparent;\n",
              "      border-bottom-color: var(--fill-color);\n",
              "    }\n",
              "  }\n",
              "</style>\n",
              "\n",
              "  <script>\n",
              "    async function quickchart(key) {\n",
              "      const quickchartButtonEl =\n",
              "        document.querySelector('#' + key + ' button');\n",
              "      quickchartButtonEl.disabled = true;  // To prevent multiple clicks.\n",
              "      quickchartButtonEl.classList.add('colab-df-spinner');\n",
              "      try {\n",
              "        const charts = await google.colab.kernel.invokeFunction(\n",
              "            'suggestCharts', [key], {});\n",
              "      } catch (error) {\n",
              "        console.error('Error during call to suggestCharts:', error);\n",
              "      }\n",
              "      quickchartButtonEl.classList.remove('colab-df-spinner');\n",
              "      quickchartButtonEl.classList.add('colab-df-quickchart-complete');\n",
              "    }\n",
              "    (() => {\n",
              "      let quickchartButtonEl =\n",
              "        document.querySelector('#df-8e6792ac-01aa-4f72-bd0e-c0654fb08b2b button');\n",
              "      quickchartButtonEl.style.display =\n",
              "        google.colab.kernel.accessAllowed ? 'block' : 'none';\n",
              "    })();\n",
              "  </script>\n",
              "</div>\n",
              "\n",
              "  <div id=\"id_685d6173-4a4c-436f-aeeb-1ab1455deae4\">\n",
              "    <style>\n",
              "      .colab-df-generate {\n",
              "        background-color: #E8F0FE;\n",
              "        border: none;\n",
              "        border-radius: 50%;\n",
              "        cursor: pointer;\n",
              "        display: none;\n",
              "        fill: #1967D2;\n",
              "        height: 32px;\n",
              "        padding: 0 0 0 0;\n",
              "        width: 32px;\n",
              "      }\n",
              "\n",
              "      .colab-df-generate:hover {\n",
              "        background-color: #E2EBFA;\n",
              "        box-shadow: 0px 1px 2px rgba(60, 64, 67, 0.3), 0px 1px 3px 1px rgba(60, 64, 67, 0.15);\n",
              "        fill: #174EA6;\n",
              "      }\n",
              "\n",
              "      [theme=dark] .colab-df-generate {\n",
              "        background-color: #3B4455;\n",
              "        fill: #D2E3FC;\n",
              "      }\n",
              "\n",
              "      [theme=dark] .colab-df-generate:hover {\n",
              "        background-color: #434B5C;\n",
              "        box-shadow: 0px 1px 3px 1px rgba(0, 0, 0, 0.15);\n",
              "        filter: drop-shadow(0px 1px 2px rgba(0, 0, 0, 0.3));\n",
              "        fill: #FFFFFF;\n",
              "      }\n",
              "    </style>\n",
              "    <button class=\"colab-df-generate\" onclick=\"generateWithVariable('aruco_dataframe')\"\n",
              "            title=\"Generate code using this dataframe.\"\n",
              "            style=\"display:none;\">\n",
              "\n",
              "  <svg xmlns=\"http://www.w3.org/2000/svg\" height=\"24px\"viewBox=\"0 0 24 24\"\n",
              "       width=\"24px\">\n",
              "    <path d=\"M7,19H8.4L18.45,9,17,7.55,7,17.6ZM5,21V16.75L18.45,3.32a2,2,0,0,1,2.83,0l1.4,1.43a1.91,1.91,0,0,1,.58,1.4,1.91,1.91,0,0,1-.58,1.4L9.25,21ZM18.45,9,17,7.55Zm-12,3A5.31,5.31,0,0,0,4.9,8.1,5.31,5.31,0,0,0,1,6.5,5.31,5.31,0,0,0,4.9,4.9,5.31,5.31,0,0,0,6.5,1,5.31,5.31,0,0,0,8.1,4.9,5.31,5.31,0,0,0,12,6.5,5.46,5.46,0,0,0,6.5,12Z\"/>\n",
              "  </svg>\n",
              "    </button>\n",
              "    <script>\n",
              "      (() => {\n",
              "      const buttonEl =\n",
              "        document.querySelector('#id_685d6173-4a4c-436f-aeeb-1ab1455deae4 button.colab-df-generate');\n",
              "      buttonEl.style.display =\n",
              "        google.colab.kernel.accessAllowed ? 'block' : 'none';\n",
              "\n",
              "      buttonEl.onclick = () => {\n",
              "        google.colab.notebook.generateWithVariable('aruco_dataframe');\n",
              "      }\n",
              "      })();\n",
              "    </script>\n",
              "  </div>\n",
              "\n",
              "    </div>\n",
              "  </div>\n"
            ]
          },
          "metadata": {},
          "execution_count": 285
        }
      ]
    },
    {
      "cell_type": "code",
      "source": [
        "aruco_dataframe.to_csv('Aruco_Data.csv', index=False)"
      ],
      "metadata": {
        "id": "fEJybMXQeXm-"
      },
      "execution_count": null,
      "outputs": []
    }
  ]
}